{
 "cells": [
  {
   "cell_type": "code",
   "execution_count": 1,
   "metadata": {},
   "outputs": [],
   "source": [
    "import pandas as pd\n",
    "import numpy as np\n",
    "import matplotlib.pyplot as plt"
   ]
  },
  {
   "cell_type": "markdown",
   "metadata": {},
   "source": [
    "## Load the data + train test split"
   ]
  },
  {
   "cell_type": "code",
   "execution_count": 2,
   "metadata": {},
   "outputs": [],
   "source": [
    "df = pd.read_csv(\"SPY.csv\")"
   ]
  },
  {
   "cell_type": "code",
   "execution_count": 3,
   "metadata": {},
   "outputs": [],
   "source": [
    "df_train = df.iloc[:1000]\n",
    "df_test = df.iloc[1000:]"
   ]
  },
  {
   "cell_type": "code",
   "execution_count": 4,
   "metadata": {},
   "outputs": [],
   "source": [
    "training_set = df_train[[\"Open\"]].values"
   ]
  },
  {
   "cell_type": "markdown",
   "metadata": {},
   "source": [
    "## Feature Scaling"
   ]
  },
  {
   "cell_type": "code",
   "execution_count": 5,
   "metadata": {},
   "outputs": [],
   "source": [
    "from sklearn.preprocessing import MinMaxScaler"
   ]
  },
  {
   "cell_type": "code",
   "execution_count": 6,
   "metadata": {},
   "outputs": [],
   "source": [
    "sc = MinMaxScaler()"
   ]
  },
  {
   "cell_type": "code",
   "execution_count": 7,
   "metadata": {},
   "outputs": [],
   "source": [
    "training_set_scaled = sc.fit_transform(training_set)\n",
    "training_set_scaled = training_set_scaled.reshape(len(training_set))"
   ]
  },
  {
   "cell_type": "code",
   "execution_count": null,
   "metadata": {},
   "outputs": [],
   "source": []
  },
  {
   "cell_type": "code",
   "execution_count": 11,
   "metadata": {},
   "outputs": [],
   "source": [
    "X_train = []\n",
    "y_train = []\n",
    "window = 60\n",
    "for i in range(window,len(training_set_scaled)):\n",
    "    X_train.append(training_set_scaled[i-60:i])\n",
    "    y_train.append(training_set_scaled[i])\n",
    "X_train = np.vstack(X_train)"
   ]
  },
  {
   "cell_type": "code",
   "execution_count": 13,
   "metadata": {},
   "outputs": [
    {
     "data": {
      "text/plain": [
       "(940, 60)"
      ]
     },
     "execution_count": 13,
     "metadata": {},
     "output_type": "execute_result"
    }
   ],
   "source": [
    "X_train.shape"
   ]
  },
  {
   "cell_type": "code",
   "execution_count": 15,
   "metadata": {},
   "outputs": [],
   "source": [
    "X_train = X_train.reshape((X_train.shape[0],X_train.shape[1],1))"
   ]
  },
  {
   "cell_type": "code",
   "execution_count": 16,
   "metadata": {},
   "outputs": [
    {
     "data": {
      "text/plain": [
       "(940, 60, 1)"
      ]
     },
     "execution_count": 16,
     "metadata": {},
     "output_type": "execute_result"
    }
   ],
   "source": [
    "\n",
    "X_train.shape"
   ]
  },
  {
   "cell_type": "code",
   "execution_count": 19,
   "metadata": {},
   "outputs": [],
   "source": [
    "from tensorflow.keras.models import Sequential\n",
    "from tensorflow.keras.layers import Dense, LSTM, Dropout"
   ]
  },
  {
   "cell_type": "code",
   "execution_count": 22,
   "metadata": {},
   "outputs": [],
   "source": [
    "regressor = Sequential()\n",
    "# 1em couche\n",
    "regressor.add(LSTM(units = 50,return_sequences=True,input_shape = (X_train.shape[1],1)))\n",
    "regressor.add(Dropout(0.2))\n",
    "\n",
    "# 1em couche\n",
    "regressor.add(LSTM(units = 50,return_sequences=True))\n",
    "regressor.add(Dropout(0.2))\n",
    "\n",
    "# 3em couche\n",
    "regressor.add(LSTM(units = 50,return_sequences=True))\n",
    "regressor.add(Dropout(0.2))\n",
    "\n",
    "# 4em couche\n",
    "regressor.add(LSTM(units = 50))\n",
    "regressor.add(Dropout(0.2))"
   ]
  },
  {
   "cell_type": "code",
   "execution_count": 23,
   "metadata": {},
   "outputs": [],
   "source": [
    "# couche de sortie\n",
    "regressor.add(Dense(1))"
   ]
  },
  {
   "cell_type": "code",
   "execution_count": 24,
   "metadata": {},
   "outputs": [],
   "source": [
    "#compilation\n",
    "regressor.compile(optimizer=\"adam\", loss='mean_squared_error')"
   ]
  },
  {
   "cell_type": "code",
   "execution_count": 25,
   "metadata": {},
   "outputs": [
    {
     "name": "stdout",
     "output_type": "stream",
     "text": [
      "Epoch 1/100\n",
      "940/940 [==============================] - 4s 5ms/sample - loss: 0.0453\n",
      "Epoch 2/100\n",
      "940/940 [==============================] - 3s 3ms/sample - loss: 0.0055\n",
      "Epoch 3/100\n",
      "940/940 [==============================] - 3s 3ms/sample - loss: 0.0042\n",
      "Epoch 4/100\n",
      "940/940 [==============================] - 3s 3ms/sample - loss: 0.0043\n",
      "Epoch 5/100\n",
      "940/940 [==============================] - 3s 3ms/sample - loss: 0.0052\n",
      "Epoch 6/100\n",
      "940/940 [==============================] - 2s 3ms/sample - loss: 0.0043\n",
      "Epoch 7/100\n",
      "940/940 [==============================] - 2s 3ms/sample - loss: 0.0041\n",
      "Epoch 8/100\n",
      "940/940 [==============================] - 2s 3ms/sample - loss: 0.0039\n",
      "Epoch 9/100\n",
      "940/940 [==============================] - 2s 3ms/sample - loss: 0.0041\n",
      "Epoch 10/100\n",
      "940/940 [==============================] - 2s 3ms/sample - loss: 0.0036\n",
      "Epoch 11/100\n",
      "940/940 [==============================] - 2s 3ms/sample - loss: 0.0036\n",
      "Epoch 12/100\n",
      "940/940 [==============================] - 3s 3ms/sample - loss: 0.0038\n",
      "Epoch 13/100\n",
      "940/940 [==============================] - 3s 3ms/sample - loss: 0.0038\n",
      "Epoch 14/100\n",
      "940/940 [==============================] - 3s 3ms/sample - loss: 0.0036\n",
      "Epoch 15/100\n",
      "940/940 [==============================] - 2s 3ms/sample - loss: 0.0032\n",
      "Epoch 16/100\n",
      "940/940 [==============================] - 2s 3ms/sample - loss: 0.0037\n",
      "Epoch 17/100\n",
      "940/940 [==============================] - 2s 3ms/sample - loss: 0.0032\n",
      "Epoch 18/100\n",
      "940/940 [==============================] - 3s 3ms/sample - loss: 0.0032\n",
      "Epoch 19/100\n",
      "940/940 [==============================] - 3s 3ms/sample - loss: 0.0031\n",
      "Epoch 20/100\n",
      "940/940 [==============================] - 2s 3ms/sample - loss: 0.0029\n",
      "Epoch 21/100\n",
      "940/940 [==============================] - 3s 3ms/sample - loss: 0.0028\n",
      "Epoch 22/100\n",
      "940/940 [==============================] - 3s 3ms/sample - loss: 0.0032\n",
      "Epoch 23/100\n",
      "940/940 [==============================] - 2s 3ms/sample - loss: 0.0028\n",
      "Epoch 24/100\n",
      "940/940 [==============================] - 3s 3ms/sample - loss: 0.0026\n",
      "Epoch 25/100\n",
      "940/940 [==============================] - 3s 3ms/sample - loss: 0.0029\n",
      "Epoch 26/100\n",
      "940/940 [==============================] - 3s 3ms/sample - loss: 0.0029\n",
      "Epoch 27/100\n",
      "940/940 [==============================] - 2s 3ms/sample - loss: 0.0025\n",
      "Epoch 28/100\n",
      "940/940 [==============================] - 2s 3ms/sample - loss: 0.0031\n",
      "Epoch 29/100\n",
      "940/940 [==============================] - 2s 3ms/sample - loss: 0.0028\n",
      "Epoch 30/100\n",
      "940/940 [==============================] - 3s 3ms/sample - loss: 0.0028\n",
      "Epoch 31/100\n",
      "940/940 [==============================] - 3s 3ms/sample - loss: 0.0026\n",
      "Epoch 32/100\n",
      "940/940 [==============================] - 2s 3ms/sample - loss: 0.0028\n",
      "Epoch 33/100\n",
      "940/940 [==============================] - 3s 3ms/sample - loss: 0.0031\n",
      "Epoch 34/100\n",
      "940/940 [==============================] - 3s 3ms/sample - loss: 0.0025\n",
      "Epoch 35/100\n",
      "940/940 [==============================] - 2s 3ms/sample - loss: 0.0023\n",
      "Epoch 36/100\n",
      "940/940 [==============================] - 3s 3ms/sample - loss: 0.0027\n",
      "Epoch 37/100\n",
      "940/940 [==============================] - 3s 3ms/sample - loss: 0.0024\n",
      "Epoch 38/100\n",
      "940/940 [==============================] - 3s 3ms/sample - loss: 0.0021\n",
      "Epoch 39/100\n",
      "940/940 [==============================] - 2s 3ms/sample - loss: 0.0023\n",
      "Epoch 40/100\n",
      "940/940 [==============================] - 3s 3ms/sample - loss: 0.0025\n",
      "Epoch 41/100\n",
      "940/940 [==============================] - 2s 3ms/sample - loss: 0.0025\n",
      "Epoch 42/100\n",
      "940/940 [==============================] - 3s 3ms/sample - loss: 0.0022\n",
      "Epoch 43/100\n",
      "940/940 [==============================] - 3s 3ms/sample - loss: 0.0023\n",
      "Epoch 44/100\n",
      "940/940 [==============================] - 3s 3ms/sample - loss: 0.0021\n",
      "Epoch 45/100\n",
      "940/940 [==============================] - 2s 3ms/sample - loss: 0.0023\n",
      "Epoch 46/100\n",
      "940/940 [==============================] - 3s 3ms/sample - loss: 0.0023\n",
      "Epoch 47/100\n",
      "940/940 [==============================] - 3s 3ms/sample - loss: 0.0021\n",
      "Epoch 48/100\n",
      "940/940 [==============================] - 3s 3ms/sample - loss: 0.0023\n",
      "Epoch 49/100\n",
      "940/940 [==============================] - 3s 3ms/sample - loss: 0.0022\n",
      "Epoch 50/100\n",
      "940/940 [==============================] - 2s 3ms/sample - loss: 0.0022\n",
      "Epoch 51/100\n",
      "940/940 [==============================] - 2s 3ms/sample - loss: 0.0020\n",
      "Epoch 52/100\n",
      "940/940 [==============================] - 2s 2ms/sample - loss: 0.0021\n",
      "Epoch 53/100\n",
      "940/940 [==============================] - 2s 2ms/sample - loss: 0.0021\n",
      "Epoch 54/100\n",
      "940/940 [==============================] - 2s 3ms/sample - loss: 0.0019\n",
      "Epoch 55/100\n",
      "940/940 [==============================] - 2s 2ms/sample - loss: 0.0019\n",
      "Epoch 56/100\n",
      "940/940 [==============================] - 2s 3ms/sample - loss: 0.0020\n",
      "Epoch 57/100\n",
      "940/940 [==============================] - 2s 2ms/sample - loss: 0.0020\n",
      "Epoch 58/100\n",
      "940/940 [==============================] - 2s 3ms/sample - loss: 0.0017\n",
      "Epoch 59/100\n",
      "940/940 [==============================] - 2s 2ms/sample - loss: 0.0018\n",
      "Epoch 60/100\n",
      "940/940 [==============================] - 3s 3ms/sample - loss: 0.0019\n",
      "Epoch 61/100\n",
      "940/940 [==============================] - 3s 3ms/sample - loss: 0.0017\n",
      "Epoch 62/100\n",
      "940/940 [==============================] - 3s 3ms/sample - loss: 0.0017\n",
      "Epoch 63/100\n",
      "940/940 [==============================] - 3s 3ms/sample - loss: 0.0020\n",
      "Epoch 64/100\n",
      "940/940 [==============================] - 3s 3ms/sample - loss: 0.0020\n",
      "Epoch 65/100\n",
      "940/940 [==============================] - 3s 3ms/sample - loss: 0.0017\n",
      "Epoch 66/100\n",
      "940/940 [==============================] - 2s 3ms/sample - loss: 0.0018\n",
      "Epoch 67/100\n",
      "940/940 [==============================] - 2s 3ms/sample - loss: 0.0017\n",
      "Epoch 68/100\n",
      "940/940 [==============================] - 2s 3ms/sample - loss: 0.0017\n",
      "Epoch 69/100\n",
      "940/940 [==============================] - 2s 3ms/sample - loss: 0.0017\n",
      "Epoch 70/100\n",
      "940/940 [==============================] - 2s 3ms/sample - loss: 0.0017\n",
      "Epoch 71/100\n",
      "940/940 [==============================] - 2s 3ms/sample - loss: 0.0017\n",
      "Epoch 72/100\n",
      "940/940 [==============================] - 2s 3ms/sample - loss: 0.0017\n",
      "Epoch 73/100\n",
      "940/940 [==============================] - 2s 3ms/sample - loss: 0.0018\n",
      "Epoch 74/100\n",
      "940/940 [==============================] - 2s 3ms/sample - loss: 0.0016\n",
      "Epoch 75/100\n",
      "940/940 [==============================] - 2s 3ms/sample - loss: 0.0016\n",
      "Epoch 76/100\n",
      "940/940 [==============================] - 2s 3ms/sample - loss: 0.0017\n",
      "Epoch 77/100\n",
      "940/940 [==============================] - 2s 3ms/sample - loss: 0.0016\n",
      "Epoch 78/100\n",
      "940/940 [==============================] - 2s 3ms/sample - loss: 0.0014\n",
      "Epoch 79/100\n",
      "940/940 [==============================] - 2s 3ms/sample - loss: 0.0016\n",
      "Epoch 80/100\n",
      "940/940 [==============================] - 2s 3ms/sample - loss: 0.0017\n",
      "Epoch 81/100\n",
      "940/940 [==============================] - 2s 3ms/sample - loss: 0.0018\n",
      "Epoch 82/100\n",
      "940/940 [==============================] - 2s 3ms/sample - loss: 0.0014\n",
      "Epoch 83/100\n",
      "940/940 [==============================] - 2s 3ms/sample - loss: 0.0016\n",
      "Epoch 84/100\n",
      "940/940 [==============================] - 2s 3ms/sample - loss: 0.0015\n",
      "Epoch 85/100\n",
      "940/940 [==============================] - 2s 3ms/sample - loss: 0.0013\n",
      "Epoch 86/100\n",
      "940/940 [==============================] - 2s 3ms/sample - loss: 0.0013\n",
      "Epoch 87/100\n",
      "940/940 [==============================] - 2s 3ms/sample - loss: 0.0014\n",
      "Epoch 88/100\n",
      "940/940 [==============================] - 2s 3ms/sample - loss: 0.0018\n",
      "Epoch 89/100\n",
      "940/940 [==============================] - 2s 3ms/sample - loss: 0.0015\n",
      "Epoch 90/100\n",
      "940/940 [==============================] - 2s 3ms/sample - loss: 0.0014\n",
      "Epoch 91/100\n",
      "940/940 [==============================] - 2s 3ms/sample - loss: 0.0015\n",
      "Epoch 92/100\n",
      "940/940 [==============================] - 2s 3ms/sample - loss: 0.0014\n",
      "Epoch 93/100\n",
      "940/940 [==============================] - 2s 3ms/sample - loss: 0.0012\n",
      "Epoch 94/100\n",
      "940/940 [==============================] - 2s 3ms/sample - loss: 0.0012\n",
      "Epoch 95/100\n",
      "940/940 [==============================] - 2s 3ms/sample - loss: 0.0013\n",
      "Epoch 96/100\n",
      "940/940 [==============================] - 2s 3ms/sample - loss: 0.0013\n",
      "Epoch 97/100\n"
     ]
    },
    {
     "name": "stdout",
     "output_type": "stream",
     "text": [
      "940/940 [==============================] - 2s 3ms/sample - loss: 0.0016\n",
      "Epoch 98/100\n",
      "940/940 [==============================] - 2s 3ms/sample - loss: 0.0015\n",
      "Epoch 99/100\n",
      "940/940 [==============================] - 2s 3ms/sample - loss: 0.0015\n",
      "Epoch 100/100\n",
      "940/940 [==============================] - 2s 2ms/sample - loss: 0.0013\n"
     ]
    },
    {
     "data": {
      "text/plain": [
       "<tensorflow.python.keras.callbacks.History at 0x1a2c7b9dd8>"
      ]
     },
     "execution_count": 25,
     "metadata": {},
     "output_type": "execute_result"
    }
   ],
   "source": [
    "regressor.fit(X_train,y_train,epochs=100,batch_size=32)"
   ]
  },
  {
   "cell_type": "code",
   "execution_count": null,
   "metadata": {},
   "outputs": [],
   "source": []
  }
 ],
 "metadata": {
  "kernelspec": {
   "display_name": "Python 3",
   "language": "python",
   "name": "python3"
  },
  "language_info": {
   "codemirror_mode": {
    "name": "ipython",
    "version": 3
   },
   "file_extension": ".py",
   "mimetype": "text/x-python",
   "name": "python",
   "nbconvert_exporter": "python",
   "pygments_lexer": "ipython3",
   "version": "3.7.0"
  }
 },
 "nbformat": 4,
 "nbformat_minor": 2
}
