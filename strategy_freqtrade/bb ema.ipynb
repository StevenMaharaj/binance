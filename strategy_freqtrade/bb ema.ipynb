{
 "cells": [
  {
   "cell_type": "code",
   "execution_count": 1,
   "metadata": {},
   "outputs": [],
   "source": [
    "import numpy as np\n",
    "import pandas as pd\n",
    "import matplotlib.pyplot as plt\n",
    "import seaborn as sns\n",
    "sns.set_style(\"darkgrid\")\n",
    "import talib as ta"
   ]
  },
  {
   "cell_type": "code",
   "execution_count": 2,
   "metadata": {},
   "outputs": [],
   "source": [
    "ADA_BTC = pd.read_json(\"data/ADA_BTC-5m.json\")\n",
    "ADA_BTC.columns = [\"time_stamp\",\"high\", \"low\",\"open\",\"close\",\"volume\"]"
   ]
  },
  {
   "cell_type": "code",
   "execution_count": 3,
   "metadata": {},
   "outputs": [],
   "source": [
    "ADA_BTC[\"returns\"] = ADA_BTC.close/ADA_BTC.close.shift(-1)\n",
    "ADA_BTC['ema9'] = ta.EMA(ADA_BTC.close, timeperiod=9)\n",
    "ADA_BTC['ema20'] = ta.EMA(ADA_BTC.close, timeperiod=20)\n",
    "ADA_BTC['ema50'] = ta.EMA(ADA_BTC.close, timeperiod=50)\n",
    "ADA_BTC['ema200'] = ta.EMA(ADA_BTC.close, timeperiod=200)\n"
   ]
  },
  {
   "cell_type": "code",
   "execution_count": null,
   "metadata": {},
   "outputs": [],
   "source": []
  }
 ],
 "metadata": {
  "kernelspec": {
   "display_name": "Python 3",
   "language": "python",
   "name": "python3"
  },
  "language_info": {
   "codemirror_mode": {
    "name": "ipython",
    "version": 3
   },
   "file_extension": ".py",
   "mimetype": "text/x-python",
   "name": "python",
   "nbconvert_exporter": "python",
   "pygments_lexer": "ipython3",
   "version": "3.7.3"
  }
 },
 "nbformat": 4,
 "nbformat_minor": 2
}
